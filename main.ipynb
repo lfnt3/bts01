{
 "cells": [
  {
   "cell_type": "code",
   "execution_count": 2,
   "metadata": {
    "collapsed": true
   },
   "outputs": [],
   "source": [
    "import pandas as pd\n",
    "import numpy as np"
   ]
  },
  {
   "cell_type": "code",
   "execution_count": 3,
   "metadata": {},
   "outputs": [
    {
     "name": "stdout",
     "output_type": "stream",
     "text": [
      "        A     B\n0       1     2\n1       2     4\n2       3     6\n3       4     8\n4       5    10\n5       6    12\n6       7    14\n7       8    16\n8       9    18\n9      10    20\n10     11    22\n11     12    24\n12     13    26\n13     14    28\n14     15    30\n15     16    32\n16     17    34\n17     18    36\n18     19    38\n19     20    40\n20     21    42\n21     22    44\n22     23    46\n23     24    48\n24     25    50\n25     26    52\n26     27    54\n27     28    56\n28     29    58\n29     30    60\n..    ...   ...\n970   971  1942\n971   972  1944\n972   973  1946\n973   974  1948\n974   975  1950\n975   976  1952\n976   977  1954\n977   978  1956\n978   979  1958\n979   980  1960\n980   981  1962\n981   982  1964\n982   983  1966\n983   984  1968\n984   985  1970\n985   986  1972\n986   987  1974\n987   988  1976\n988   989  1978\n989   990  1980\n990   991  1982\n991   992  1984\n992   993  1986\n993   994  1988\n994   995  1990\n995   996  1992\n996   997  1994\n997   998  1996\n998   999  1998\n999  1000  2000\n\n[1000 rows x 2 columns]\n"
     ]
    },
    {
     "ename": "NameError",
     "evalue": "name 'make_ndarray_from_dataframe' is not defined",
     "traceback": [
      "\u001b[0;31m---------------------------------------------------------------------------\u001b[0m",
      "\u001b[0;31mNameError\u001b[0m                                 Traceback (most recent call last)",
      "\u001b[0;32m<ipython-input-3-82de8249f3c9>\u001b[0m in \u001b[0;36m<module>\u001b[0;34m\u001b[0m\n\u001b[1;32m      4\u001b[0m \u001b[0mprint\u001b[0m\u001b[0;34m(\u001b[0m\u001b[0mdf2\u001b[0m\u001b[0;34m)\u001b[0m\u001b[0;34m\u001b[0m\u001b[0m\n\u001b[1;32m      5\u001b[0m \u001b[0;34m\u001b[0m\u001b[0m\n\u001b[0;32m----> 6\u001b[0;31m \u001b[0mndarray1\u001b[0m \u001b[0;34m=\u001b[0m \u001b[0mmake_ndarray_from_dataframe\u001b[0m\u001b[0;34m(\u001b[0m\u001b[0mdf2\u001b[0m\u001b[0;34m,\u001b[0m \u001b[0;34m[\u001b[0m\u001b[0;34m'A'\u001b[0m\u001b[0;34m,\u001b[0m \u001b[0;34m'B'\u001b[0m\u001b[0;34m]\u001b[0m\u001b[0;34m)\u001b[0m\u001b[0;34m\u001b[0m\u001b[0m\n\u001b[0m\u001b[1;32m      7\u001b[0m \u001b[0mprint\u001b[0m\u001b[0;34m(\u001b[0m\u001b[0mndarray1\u001b[0m\u001b[0;34m)\u001b[0m\u001b[0;34m\u001b[0m\u001b[0m\n",
      "\u001b[0;31mNameError\u001b[0m: name 'make_ndarray_from_dataframe' is not defined"
     ],
     "output_type": "error"
    }
   ],
   "source": [
    "N = 1000\n",
    "df2 = pd.DataFrame({'A': range(1, N + 1, 1)})\n",
    "df2['B'] = df2['A']*2\n",
    "print(df2)\n",
    "\n",
    "ndarray1 = make_ndarray_from_dataframe(df2, ['A', 'B'])\n",
    "print(ndarray1)"
   ]
  },
  {
   "cell_type": "code",
   "execution_count": null,
   "metadata": {},
   "outputs": [],
   "source": []
  }
 ],
 "metadata": {
  "kernelspec": {
   "display_name": "Python 2",
   "language": "python",
   "name": "python2"
  },
  "language_info": {
   "codemirror_mode": {
    "name": "ipython",
    "version": 2
   },
   "file_extension": ".py",
   "mimetype": "text/x-python",
   "name": "python",
   "nbconvert_exporter": "python",
   "pygments_lexer": "ipython2",
   "version": "2.7.6"
  }
 },
 "nbformat": 4,
 "nbformat_minor": 0
}
